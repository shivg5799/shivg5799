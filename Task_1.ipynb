{
  "nbformat": 4,
  "nbformat_minor": 0,
  "metadata": {
    "colab": {
      "name": "Task-1",
      "provenance": [],
      "authorship_tag": "ABX9TyN/NtKi/uMaboI7LwlJz5l2"
    },
    "kernelspec": {
      "name": "python3",
      "display_name": "Python 3"
    },
    "language_info": {
      "name": "python"
    }
  },
  "cells": [
    {
      "cell_type": "markdown",
      "source": [
        "# Predicting the percentage of a student based on the no. of study hours"
      ],
      "metadata": {
        "id": "EgldzLEhROmi"
      }
    },
    {
      "cell_type": "markdown",
      "source": [
        "Author: Shiv kumar gupta"
      ],
      "metadata": {
        "id": "9sDpo6dkTTyD"
      }
    },
    {
      "cell_type": "code",
      "execution_count": 1,
      "metadata": {
        "id": "FvPvYKNuRL8D"
      },
      "outputs": [],
      "source": [
        "# importing libraries\n",
        "import numpy as np\n",
        "import pandas as pd\n",
        "import matplotlib.pyplot as plt\n",
        "\n"
      ]
    },
    {
      "cell_type": "code",
      "source": [
        ""
      ],
      "metadata": {
        "id": "EWvVveDWTQyx"
      },
      "execution_count": null,
      "outputs": []
    }
  ]
}